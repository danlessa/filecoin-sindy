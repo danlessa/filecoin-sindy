{
 "cells": [
  {
   "cell_type": "code",
   "execution_count": 1,
   "id": "f8a87b9c-f651-43a0-a488-a33504292d5e",
   "metadata": {},
   "outputs": [
    {
     "name": "stdout",
     "output_type": "stream",
     "text": [
      "time: 374 µs (started: 2021-10-04 20:37:37 -03:00)\n"
     ]
    }
   ],
   "source": [
    "%load_ext autotime"
   ]
  },
  {
   "cell_type": "code",
   "execution_count": 2,
   "id": "fda98739-182f-4df3-bbe0-af931105b3f5",
   "metadata": {},
   "outputs": [
    {
     "data": {
      "text/html": [
       "<div>\n",
       "<style scoped>\n",
       "    .dataframe tbody tr th:only-of-type {\n",
       "        vertical-align: middle;\n",
       "    }\n",
       "\n",
       "    .dataframe tbody tr th {\n",
       "        vertical-align: top;\n",
       "    }\n",
       "\n",
       "    .dataframe thead th {\n",
       "        text-align: right;\n",
       "    }\n",
       "</style>\n",
       "<table border=\"1\" class=\"dataframe\">\n",
       "  <thead>\n",
       "    <tr style=\"text-align: right;\">\n",
       "      <th></th>\n",
       "      <th>x</th>\n",
       "      <th>y</th>\n",
       "    </tr>\n",
       "    <tr>\n",
       "      <th>t</th>\n",
       "      <th></th>\n",
       "      <th></th>\n",
       "    </tr>\n",
       "  </thead>\n",
       "  <tbody>\n",
       "    <tr>\n",
       "      <th>0.000000</th>\n",
       "      <td>4.000000</td>\n",
       "      <td>2.000000</td>\n",
       "    </tr>\n",
       "    <tr>\n",
       "      <th>0.030000</th>\n",
       "      <td>3.928243</td>\n",
       "      <td>2.425691</td>\n",
       "    </tr>\n",
       "    <tr>\n",
       "      <th>0.060001</th>\n",
       "      <td>3.831069</td>\n",
       "      <td>2.927156</td>\n",
       "    </tr>\n",
       "  </tbody>\n",
       "</table>\n",
       "</div>"
      ],
      "text/plain": [
       "                 x         y\n",
       "t                           \n",
       "0.000000  4.000000  2.000000\n",
       "0.030000  3.928243  2.425691\n",
       "0.060001  3.831069  2.927156"
      ]
     },
     "execution_count": 2,
     "metadata": {},
     "output_type": "execute_result"
    },
    {
     "name": "stdout",
     "output_type": "stream",
     "text": [
      "time: 998 ms (started: 2021-10-04 20:37:37 -03:00)\n"
     ]
    }
   ],
   "source": [
    "import numpy as np\n",
    "from scipy import integrate\n",
    "import plotly.express as px\n",
    "from dataclasses import dataclass\n",
    "import pandas as pd\n",
    "\n",
    "@dataclass\n",
    "class SimulationParameters():\n",
    "    Nt: int\n",
    "    tmax: float\n",
    "\n",
    "\n",
    "@dataclass\n",
    "class ModelParameters():\n",
    "    alpha: float\n",
    "    beta: float\n",
    "    delta: float\n",
    "    gamma: float\n",
    "    \n",
    "@dataclass\n",
    "class InitialState():\n",
    "    x: float\n",
    "    y: float\n",
    "\n",
    "@dataclass\n",
    "class Model():\n",
    "    \n",
    "    X0: InitialState\n",
    "    params: ModelParameters\n",
    "    config: SimulationParameters\n",
    "    \n",
    "    def derivative(self, X, t):\n",
    "        x, y = X\n",
    "        dotx = x * (self.params.alpha - self.params.beta * y)\n",
    "        doty = y * (-self.params.delta + self.params.gamma * x)\n",
    "        return np.array([dotx, doty])\n",
    "    \n",
    "    def simulate(self):\n",
    "        t = np.linspace(0.,self.config.tmax, self.config.Nt)\n",
    "        res = integrate.odeint(self.derivative, \n",
    "                               tuple(self.X0.__dict__.values()), \n",
    "                               t)\n",
    "        x, y = res.T\n",
    "        return (t, x, y)\n",
    "        \n",
    "\n",
    "initial_state = InitialState(4, 2)\n",
    "params = ModelParameters(alpha=0.5, beta=0.5, delta=1.5, gamma=2)\n",
    "config = SimulationParameters(100_000, 3_000)\n",
    "\n",
    "model = Model(initial_state, params, config)\n",
    "results = model.simulate()\n",
    "(t, x, y) = results\n",
    "data = {'t': t, 'x': x, 'y': y}\n",
    "df = pd.DataFrame(data).set_index('t')\n",
    "df.head(3)"
   ]
  },
  {
   "cell_type": "code",
   "execution_count": 3,
   "id": "725ac7aa-946e-4fff-926b-e4c0435fa714",
   "metadata": {},
   "outputs": [
    {
     "name": "stdout",
     "output_type": "stream",
     "text": [
      "x' = 0.499 x + -0.499 x y\n",
      "y' = -1.496 y + 1.995 x y\n",
      "time: 326 ms (started: 2021-10-04 20:37:38 -03:00)\n"
     ]
    }
   ],
   "source": [
    "from sklearn.preprocessing import PolynomialFeatures\n",
    "from deeptime.sindy import STLSQ\n",
    "\n",
    "t = df.index\n",
    "X = df.values\n",
    "\n",
    "library = PolynomialFeatures(degree=3)\n",
    "optimizer = STLSQ(threshold=0.2)\n",
    "\n",
    "from deeptime.sindy import SINDy\n",
    "\n",
    "# Instantiate the estimator\n",
    "estimator = SINDy(\n",
    "    library=library,\n",
    "    optimizer=optimizer,\n",
    "    input_features=[\"x\", \"y\"]  # The feature names are just for printing\n",
    ")\n",
    "\n",
    "# Fit the estimator to data\n",
    "estimator.fit(X, t=t);\n",
    "model = estimator.fetch_model();\n",
    "model.print()"
   ]
  },
  {
   "cell_type": "code",
   "execution_count": 4,
   "id": "c76f44c1-3a0e-4df9-a3c7-87c438c1768a",
   "metadata": {},
   "outputs": [
    {
     "data": {
      "image/png": "[encoded data removed]",
      "text/plain": [
       "<Figure size 360x360 with 1 Axes>"
      ]
     },
     "metadata": {
      "needs_background": "light"
     },
     "output_type": "display_data"
    },
    {
     "name": "stdout",
     "output_type": "stream",
     "text": [
      "time: 3.48 s (started: 2021-10-04 20:37:38 -03:00)\n"
     ]
    }
   ],
   "source": [
    "x0 = initial_state.x\n",
    "y0 = initial_state.y\n",
    "\n",
    "t_test = np.linspace(0, config.tmax, config.Nt)\n",
    "x_test = df.x\n",
    "y_test = df.y\n",
    "\n",
    "sim = model.simulate([x0, y0], t=t_test)\n",
    "\n",
    "import matplotlib.pyplot as plt\n",
    "\n",
    "fig, ax = plt.subplots(1, 1, figsize=(5, 5))\n",
    "ax.plot(x0, y0, \"ro\", label=\"Initial condition\", alpha=0.6, markersize=8)\n",
    "ax.plot(x_test, y_test, \"b\", label=\"Exact solution\", alpha=0.4, linewidth=4)\n",
    "ax.plot(sim[:, 0], sim[:, 1], \"k--\", label=\"SINDy model\", linewidth=3)\n",
    "ax.set(xlabel=\"x\", ylabel=\"y\")\n",
    "ax.legend();"
   ]
  },
  {
   "cell_type": "code",
   "execution_count": null,
   "id": "0f5c4eba-a641-4190-8afc-a6558f8776b4",
   "metadata": {},
   "outputs": [],
   "source": []
  }
 ],
 "metadata": {
  "kernelspec": {
   "display_name": "Python 3 (ipykernel)",
   "language": "python",
   "name": "python3"
  },
  "language_info": {
   "codemirror_mode": {
    "name": "ipython",
    "version": 3
   },
   "file_extension": ".py",
   "mimetype": "text/x-python",
   "name": "python",
   "nbconvert_exporter": "python",
   "pygments_lexer": "ipython3",
   "version": "3.9.5"
  }
 },
 "nbformat": 4,
 "nbformat_minor": 5
}
